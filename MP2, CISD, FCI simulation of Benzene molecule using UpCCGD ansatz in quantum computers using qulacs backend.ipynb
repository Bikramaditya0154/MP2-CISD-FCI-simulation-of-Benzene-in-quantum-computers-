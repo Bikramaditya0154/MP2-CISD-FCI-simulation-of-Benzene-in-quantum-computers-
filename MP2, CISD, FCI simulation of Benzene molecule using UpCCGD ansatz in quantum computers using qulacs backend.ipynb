{
 "cells": [
  {
   "cell_type": "code",
   "execution_count": 1,
   "id": "da53fdcf",
   "metadata": {},
   "outputs": [],
   "source": [
    "# needs version >= 1.5 for full functionality\n",
    "import tequila as tq "
   ]
  },
  {
   "cell_type": "code",
   "execution_count": 2,
   "id": "2a936dfe",
   "metadata": {},
   "outputs": [
    {
     "name": "stdout",
     "output_type": "stream",
     "text": [
      "<class 'tequila.quantumchemistry.psi4_interface.QuantumChemistryPsi4'>\n",
      "Qubit Encoding\n",
      "JordanWigner\n",
      "\n",
      "Parameters\n",
      "basis_set       : sto-3g          \n",
      "geometry        : tequila-tutorials/chemistry/data/benzene.xyz \n",
      "description     : benzene CISD/3-21G equilibrium \n",
      "multiplicity    : 1               \n",
      "charge          : 0               \n",
      "name            : tequila-tutorials/chemistry/data/benzene \n",
      "frozen_core     : True            \n",
      "n_qubits        : 60              \n",
      "reference state : [1, 1, 1, 1, 1, 1, 1, 1, 1, 1, 1, 1, 1, 1, 1, 1, 1, 1, 1, 1, 1, 1, 1, 1, 1, 1, 1, 1, 1, 1, 0, 0, 0, 0, 0, 0, 0, 0, 0, 0, 0, 0, 0, 0, 0, 0, 0, 0, 0, 0, 0, 0, 0, 0, 0, 0, 0, 0, 0, 0] \n",
      "\n",
      "Basis\n",
      "\n",
      "IntegralManager:\n",
      "ActiveSpace:\n",
      "Active Space Data:\n",
      "active_orbitals : [6, 7, 8, 9, 10, 11, 12, 13, 14, 15, 16, 17, 18, 19, 20, 21, 22, 23, 24, 25, 26, 27, 28, 29, 30, 31, 32, 33, 34, 35] \n",
      "reference_orbitals : [0, 1, 2, 3, 4, 5, 6, 7, 8, 9, 10, 11, 12, 13, 14, 15, 16, 17, 18, 19, 20] \n",
      "active_reference_orbitals : [6, 7, 8, 9, 10, 11, 12, 13, 14, 15, 16, 17, 18, 19, 20] \n",
      "frozen_docc     : [2, 1, 0, 0, 0, 0, 2, 1] \n",
      "frozen_uocc     : [0, 0, 0, 0, 0, 0, 0, 0] \n",
      "Orbitals:\n",
      "{irrep:B2U, idx_irrep:0, idx_total:0, energy:-11.029094476493206}\n",
      "{irrep:B3U, idx_irrep:0, idx_total:1, energy:-11.029093106130857}\n",
      "{irrep:AG, idx_irrep:0, idx_total:2, energy:-11.02904618025501}\n",
      "{irrep:AG, idx_irrep:1, idx_total:3, energy:-11.028803599398897}\n",
      "{irrep:B1G, idx_irrep:0, idx_total:4, energy:-11.028802557055958}\n",
      "{irrep:B2U, idx_irrep:1, idx_total:5, energy:-11.02868901006219}\n",
      "{irrep:AG, idx_irrep:2, idx_total:6, idx:0, energy:-1.0806133167725749}\n",
      "{irrep:B2U, idx_irrep:2, idx_total:7, idx:1, energy:-0.9488215077317252}\n",
      "{irrep:B3U, idx_irrep:1, idx_total:8, idx:2, energy:-0.9487939371154704}\n",
      "{irrep:B1G, idx_irrep:1, idx_total:9, idx:3, energy:-0.7629208008754432}\n",
      "{irrep:AG, idx_irrep:3, idx_total:10, idx:4, energy:-0.7629145070113694}\n",
      "{irrep:AG, idx_irrep:4, idx_total:11, idx:5, energy:-0.6555304822340156}\n",
      "{irrep:B2U, idx_irrep:3, idx_total:12, idx:6, energy:-0.5946653735031654}\n",
      "{irrep:B3U, idx_irrep:2, idx_total:13, idx:7, energy:-0.5465926924138392}\n",
      "{irrep:B2U, idx_irrep:4, idx_total:14, idx:8, energy:-0.530281785047836}\n",
      "{irrep:B3U, idx_irrep:3, idx_total:15, idx:9, energy:-0.5302491942231913}\n",
      "{irrep:B1U, idx_irrep:0, idx_total:16, idx:10, energy:-0.44840989711790047}\n",
      "{irrep:AG, idx_irrep:5, idx_total:17, idx:11, energy:-0.43095347989503013}\n",
      "{irrep:B1G, idx_irrep:2, idx_total:18, idx:12, energy:-0.43095230488494013}\n",
      "{irrep:B3G, idx_irrep:0, idx_total:19, idx:13, energy:-0.2752862804006179}\n",
      "{irrep:B2G, idx_irrep:0, idx_total:20, idx:14, energy:-0.2752586528298442}\n",
      "{irrep:AU, idx_irrep:0, idx_total:21, idx:15, energy:0.26550384292485313}\n",
      "{irrep:B1U, idx_irrep:1, idx_total:22, idx:16, energy:0.26552296849751256}\n",
      "{irrep:B3G, idx_irrep:1, idx_total:23, idx:17, energy:0.4949908399760522}\n",
      "{irrep:AG, idx_irrep:6, idx_total:24, idx:18, energy:0.5769839647350312}\n",
      "{irrep:B2U, idx_irrep:5, idx_total:25, idx:19, energy:0.6452696058539577}\n",
      "{irrep:B3U, idx_irrep:4, idx_total:26, idx:20, energy:0.6452741815761981}\n",
      "{irrep:B2U, idx_irrep:6, idx_total:27, idx:21, energy:0.7052344338346986}\n",
      "{irrep:B1G, idx_irrep:3, idx_total:28, idx:22, energy:0.7186619284126234}\n",
      "{irrep:AG, idx_irrep:7, idx_total:29, idx:23, energy:0.7187193343915179}\n",
      "{irrep:B1G, idx_irrep:4, idx_total:30, idx:24, energy:0.8741723637269426}\n",
      "{irrep:AG, idx_irrep:8, idx_total:31, idx:25, energy:0.8742255058432136}\n",
      "{irrep:B2U, idx_irrep:7, idx_total:32, idx:26, energy:0.8812956330534597}\n",
      "{irrep:B3U, idx_irrep:5, idx_total:33, idx:27, energy:0.8813160054526823}\n",
      "{irrep:B1G, idx_irrep:5, idx_total:34, idx:28, energy:1.066692925748315}\n",
      "{irrep:B2U, idx_irrep:8, idx_total:35, idx:29, energy:1.128401502243761}\n",
      "\n",
      "more information with: self.print_basis_info()\n",
      "Psi4 Data\n",
      "Point Group (full) : d2h             \n",
      "Point Group (used) : d2h             \n",
      "nirrep          : 8 \n",
      "irreps          : ['AG', 'B1G', 'B2G', 'B3G', 'AU', 'B1U', 'B2U', 'B3U'] \n",
      "mos per irrep   : [9, 6, 1, 2, 1, 2, 9, 6] \n",
      "\n"
     ]
    }
   ],
   "source": [
    "#Initialize molecule\n",
    "import tequila as tq\n",
    "geomstring=\"structure/benzene.xyz\"\n",
    "molecule = tq.chemistry.Molecule(geometry = geomstring, basis_set=\"sto-3g\")\n",
    "print(molecule)"
   ]
  },
  {
   "cell_type": "code",
   "execution_count": 3,
   "id": "f5e4f543",
   "metadata": {},
   "outputs": [
    {
     "data": {
      "text/plain": [
       "OrbitalData(irrep='B1G', idx_irrep=1, idx_total=9, idx=3, energy=-0.7629208008754432, occ=None, pair=None)"
      ]
     },
     "execution_count": 3,
     "metadata": {},
     "output_type": "execute_result"
    }
   ],
   "source": [
    "#Molecular Orbitals and Point Groups\n",
    "molecule.orbitals[3]"
   ]
  },
  {
   "cell_type": "code",
   "execution_count": 4,
   "id": "b6fbc060",
   "metadata": {},
   "outputs": [
    {
     "name": "stdout",
     "output_type": "stream",
     "text": [
      "Hamiltonian has 165415 terms\n",
      "Hamiltonian has 60 qubits\n"
     ]
    }
   ],
   "source": [
    "#Initialize the Qubit Hamiltonians\n",
    "import tequila as tq\n",
    "H = molecule.make_hamiltonian()\n",
    "# The Benzene Hamiltonian is already quite large, better not print the full Hamiltonian\n",
    "print(\"Hamiltonian has {} terms\".format(len(H)))\n",
    "print(\"Hamiltonian has {} qubits\".format(H.n_qubits))"
   ]
  },
  {
   "cell_type": "code",
   "execution_count": 5,
   "id": "57ff9ba3",
   "metadata": {},
   "outputs": [
    {
     "name": "stdout",
     "output_type": "stream",
     "text": [
      "Hamiltonian has 105 terms\n",
      "-223.2938+1.0722Z(0)+1.0722Z(1)+0.8703Z(2)-0.0394Y(2)Z(3)Y(4)-0.0394X(2)Z(3)X(4)+0.8703Z(3)-0.0394Y(3)Z(4)Y(5)-0.0394X(3)Z(4)X(5)+0.7111Z(4)+0.7111Z(5)+0.6656Z(6)+0.6656Z(7)+0.0892Z(0)Z(1)+0.0095Y(0)X(1)X(2)Y(3)-0.0095Y(0)Y(1)X(2)X(3)-0.0095X(0)X(1)Y(2)Y(3)+0.0095X(0)Y(1)Y(2)X(3)-0.0038Y(0)X(1)X(3)Y(4)-0.0038Y(0)Y(1)Y(3)Y(4)-0.0038X(0)X(1)X(3)X(4)-0.0038X(0)Y(1)Y(3)X(4)+0.0038Y(0)X(1)X(2)Z(3)Z(4)Y(5)-0.0038Y(0)Y(1)X(2)Z(3)Z(4)X(5)-0.0038X(0)X(1)Y(2)Z(3)Z(4)Y(5)+0.0038X(0)Y(1)Y(2)Z(3)Z(4)X(5)+0.0054Y(0)X(1)X(4)Y(5)-0.0054Y(0)Y(1)X(4)X(5)-0.0054X(0)X(1)Y(4)Y(5)+0.0054X(0)Y(1)Y(4)X(5)+0.0063Y(0)X(1)X(6)Y(7)-0.0063Y(0)Y(1)X(6)X(7)-0.0063X(0)X(1)Y(6)Y(7)+0.0063X(0)Y(1)Y(6)X(7)+0.0651Z(0)Z(2)-0.0082Z(0)Y(2)Z(3)Y(4)-0.0082Z(0)X(2)Z(3)X(4)+0.0746Z(0)Z(3)-0.0120Z(0)Y(3)Z(4)Y(5)-0.0120Z(0)X(3)Z(4)X(5)+0.0703Z(0)Z(4)+0.0756Z(0)Z(5)+0.0755Z(0)Z(6)+0.0818Z(0)Z(7)+0.0746Z(1)Z(2)-0.0120Z(1)Y(2)Z(3)Y(4)-0.0120Z(1)X(2)Z(3)X(4)+0.0651Z(1)Z(3)-0.0082Z(1)Y(3)Z(4)Y(5)-0.0082Z(1)X(3)Z(4)X(5)+0.0756Z(1)Z(4)+0.0703Z(1)Z(5)+0.0818Z(1)Z(6)+0.0755Z(1)Z(7)+0.0746Z(2)Z(3)-0.0053Y(2)Y(4)-0.0053X(2)X(4)-0.0053Z(2)Y(3)Z(4)Y(5)-0.0053Z(2)X(3)Z(4)X(5)+0.0125Y(2)X(3)X(4)Y(5)-0.0125Y(2)Y(3)X(4)X(5)-0.0125X(2)X(3)Y(4)Y(5)+0.0125X(2)Y(3)Y(4)X(5)+0.0040Y(2)X(3)X(6)Y(7)-0.0040Y(2)Y(3)X(6)X(7)-0.0040X(2)X(3)Y(6)Y(7)+0.0040X(2)Y(3)Y(6)X(7)+0.0603Z(2)Z(4)+0.0729Z(2)Z(5)-0.0047Y(2)Z(3)Y(4)Z(5)-0.0047X(2)Z(3)X(4)Z(5)+0.0002Y(2)Z(3)Z(4)X(5)X(6)Y(7)-0.0002Y(2)Z(3)Z(4)Y(5)X(6)X(7)-0.0002X(2)Z(3)Z(4)X(5)Y(6)Y(7)+0.0002X(2)Z(3)Z(4)Y(5)Y(6)X(7)+0.0687Z(2)Z(6)-0.0045Y(2)Z(3)Y(4)Z(6)-0.0045X(2)Z(3)X(4)Z(6)+0.0727Z(2)Z(7)-0.0047Y(2)Z(3)Y(4)Z(7)-0.0047X(2)Z(3)X(4)Z(7)+0.0729Z(3)Z(4)-0.0047Y(3)Y(5)-0.0047X(3)X(5)-0.0002Y(3)X(4)X(6)Y(7)-0.0002Y(3)Y(4)Y(6)Y(7)-0.0002X(3)X(4)X(6)X(7)-0.0002X(3)Y(4)Y(6)X(7)+0.0603Z(3)Z(5)+0.0727Z(3)Z(6)-0.0047Y(3)Z(4)Y(5)Z(6)-0.0047X(3)Z(4)X(5)Z(6)+0.0687Z(3)Z(7)-0.0045Y(3)Z(4)Y(5)Z(7)-0.0045X(3)Z(4)X(5)Z(7)+0.0746Z(4)Z(5)+0.0012Y(4)X(5)X(6)Y(7)-0.0012Y(4)Y(5)X(6)X(7)-0.0012X(4)X(5)Y(6)Y(7)+0.0012X(4)Y(5)Y(6)X(7)+0.0704Z(4)Z(6)+0.0716Z(4)Z(7)+0.0716Z(5)Z(6)+0.0704Z(5)Z(7)+0.0874Z(6)Z(7)\n",
      "[-227.88792153 -227.61263636 -227.61263636 -227.45696475 -227.45696475\n",
      " -227.125003   -227.125003   -226.9883648  -226.90126208 -226.90126208\n",
      " -226.90126208 -226.8915711  -226.80730749 -226.80730749 -226.7330088\n",
      " -226.57403258 -226.57403258 -226.57403258 -226.54175436 -226.45275619\n",
      " -226.45275619 -226.45275619 -226.35459242 -226.23005592 -226.23005592\n",
      " -226.23005592 -226.17990789 -226.09871057 -226.09871057 -226.09871057\n",
      " -226.06352011 -226.05855691 -225.99371664 -225.99371664 -225.89465777\n",
      " -225.89465777 -225.78077872 -225.78077872 -225.78077872 -225.69699986\n",
      " -225.6556816  -225.6556816  -225.62136829 -225.62136829 -225.62136829\n",
      " -225.62136829 -225.59117056 -225.59117056 -225.51520955 -225.51520955\n",
      " -225.43689972 -225.43689972 -225.36645345 -225.27842362 -225.27842362\n",
      " -225.24486332 -225.24486332 -225.24486332 -225.24486332 -225.21596064\n",
      " -225.21596064 -225.20949945 -225.20949945 -225.18103999 -225.18103999\n",
      " -225.09731132 -225.09731132 -225.08387244 -225.08387244 -224.92402008\n",
      " -224.92402008 -224.92402008 -224.92402008 -224.8635803  -224.8635803\n",
      " -224.83089178 -224.83089178 -224.83089178 -224.83089178 -224.81595131\n",
      " -224.81595131 -224.75381366 -224.75381366 -224.71027296 -224.70118912\n",
      " -224.70118912 -224.46273543 -224.46273543 -224.41969343 -224.41969343\n",
      " -224.41969343 -224.39095499 -224.39095499 -224.372138   -224.372138\n",
      " -224.33071709 -224.32450594 -224.32450594 -224.32450594 -224.29235716\n",
      " -224.02812    -224.02812    -224.01358947 -224.01358947 -224.01358947\n",
      " -224.0064014  -223.98274633 -223.97003839 -223.97003839 -223.97003839\n",
      " -223.96021699 -223.95019147 -223.95019147 -223.95019147 -223.90027343\n",
      " -223.83998351 -223.69753747 -223.69753747 -223.69753747 -223.69753747\n",
      " -223.69753747 -223.67466029 -223.67466029 -223.67466029 -223.64396013\n",
      " -223.64396013 -223.64396013 -223.6023554  -223.6023554  -223.6023554\n",
      " -223.58653414 -223.58048486 -223.55437713 -223.55437713 -223.55437713\n",
      " -223.52938716 -223.52938716 -223.52938716 -223.52257892 -223.4421258\n",
      " -223.23034658 -223.23034658 -223.23034658 -223.20943116 -223.19654056\n",
      " -223.19654056 -223.19654056 -223.18602369 -223.18005997 -223.15724266\n",
      " -223.15724266 -223.15724266 -223.12553468 -223.08889925 -222.84841967\n",
      " -222.84841967 -222.83997314 -222.83997314 -222.83997314 -222.80852179\n",
      " -222.79240903 -222.79240903 -222.79240903 -222.72134947 -222.48652031\n",
      " -222.48652031 -222.44497101 -222.44497101 -222.4318098  -222.4318098\n",
      " -222.34865429 -222.16843575 -222.16843575 -222.16843575 -222.16843575\n",
      " -222.11923511 -222.11923511 -222.11923511 -222.11923511 -222.09864141\n",
      " -222.09864141 -222.05939273 -222.05939273 -222.04568171 -222.04568171\n",
      " -222.00845185 -222.00845185 -221.72408123 -221.72408123 -221.72408123\n",
      " -221.72408123 -221.6959776  -221.6959776  -221.69187996 -221.69187996\n",
      " -221.66729114 -221.66729114 -221.66157592 -221.66157592 -221.63536639\n",
      " -221.63536639 -221.61414459 -221.61414459 -221.33240075 -221.33240075\n",
      " -221.33240075 -221.33240075 -221.30262853 -221.30262853 -221.28525289\n",
      " -221.28525289 -221.25648045 -221.25648045 -221.22908727 -221.22908727\n",
      " -220.8545179  -220.8545179  -220.83888181 -220.83888181 -220.67389075\n",
      " -220.31971021 -220.31971021 -220.31971021 -220.22917893 -219.90929996\n",
      " -219.90929996 -219.90929996 -219.90448885 -219.90448885 -219.90448885\n",
      " -219.88086193 -219.85434082 -219.83437012 -219.50133264 -219.50133264\n",
      " -219.50133264 -219.49505756 -219.49505756 -219.49505756 -219.46454165\n",
      " -219.44436005 -219.07673496 -219.07673496 -219.07673496 -219.06528167\n",
      " -219.03643893 -219.00651172 -217.8192844  -217.8192844  -217.39601578\n",
      " -217.39601578 -216.99810175 -216.99810175 -216.95753778 -216.95753778\n",
      " -214.61093091]\n",
      "lowest energy =  -227.88792153297373\n"
     ]
    }
   ],
   "source": [
    "#The full Hamiltonian is too large. So, let's set the active space.\n",
    "#Setting the Active Space\n",
    "#Setting Active Space\n",
    "import tequila as tq\n",
    "import numpy\n",
    "active_orbitals = {\"AG\":[0,1,2], \"B1G\":[0,1,2], \"B2G\":[0]}\n",
    "molecule = tq.chemistry.Molecule(geometry = geomstring, basis_set=\"sto-3g\", active_orbitals=active_orbitals)\n",
    "H = molecule.make_hamiltonian()\n",
    "eigenValues = numpy.linalg.eigvalsh(H.to_matrix())\n",
    "print(\"Hamiltonian has {} terms\".format(len(H)))\n",
    "print(H)\n",
    "print(eigenValues)\n",
    "print(\"lowest energy = \", eigenValues[0])"
   ]
  },
  {
   "cell_type": "code",
   "execution_count": 2,
   "id": "10e0a22d",
   "metadata": {},
   "outputs": [
    {
     "name": "stdout",
     "output_type": "stream",
     "text": [
      "Hamiltonian has 247 terms\n",
      "-222.8637+1.0794Z(0)+1.0794Z(1)+0.8743Z(2)+0.8743Z(3)+0.7218Z(4)+0.7218Z(5)+0.6616Z(6)+0.6616Z(7)+0.6465Z(8)+0.6465Z(9)+0.5132Z(10)+0.5132Z(11)+0.0892Z(0)Z(1)+0.0095Y(0)X(1)X(2)Y(3)-0.0095Y(0)Y(1)X(2)X(3)-0.0095X(0)X(1)Y(2)Y(3)+0.0095X(0)Y(1)Y(2)X(3)+0.0092Y(0)X(1)X(4)Y(5)-0.0092Y(0)Y(1)X(4)X(5)-0.0092X(0)X(1)Y(4)Y(5)+0.0092X(0)Y(1)Y(4)X(5)+0.0063Y(0)X(1)X(6)Y(7)-0.0063Y(0)Y(1)X(6)X(7)-0.0063X(0)X(1)Y(6)Y(7)+0.0063X(0)Y(1)Y(6)X(7)+0.0063Y(0)X(1)X(8)Y(9)-0.0063Y(0)Y(1)X(8)X(9)-0.0063X(0)X(1)Y(8)Y(9)+0.0063X(0)Y(1)Y(8)X(9)+0.0042Y(0)X(1)X(10)Y(11)-0.0042Y(0)Y(1)X(10)X(11)-0.0042X(0)X(1)Y(10)Y(11)+0.0042X(0)Y(1)Y(10)X(11)+0.0651Z(0)Z(2)-0.0028Y(0)Z(1)X(2)X(4)Z(5)Z(6)Z(7)Z(8)Z(9)Y(10)-0.0062Y(0)Z(1)Y(2)Y(4)Z(5)Z(6)Z(7)Z(8)Z(9)Y(10)-0.0034Y(0)Z(1)Y(2)X(4)Z(5)Z(6)Z(7)Z(8)Z(9)X(10)-0.0034X(0)Z(1)X(2)Y(4)Z(5)Z(6)Z(7)Z(8)Z(9)Y(10)-0.0062X(0)Z(1)X(2)X(4)Z(5)Z(6)Z(7)Z(8)Z(9)X(10)-0.0028X(0)Z(1)Y(2)Y(4)Z(5)Z(6)Z(7)Z(8)Z(9)X(10)+0.0000iY(0)Z(1)X(2)X(6)Z(7)Y(8)-0.0035Y(0)Z(1)Y(2)Y(6)Z(7)Y(8)-0.0035Y(0)Z(1)Y(2)X(6)Z(7)X(8)-0.0035X(0)Z(1)X(2)Y(6)Z(7)Y(8)-0.0035X(0)Z(1)X(2)X(6)Z(7)X(8)+0.0000iX(0)Z(1)Y(2)Y(6)Z(7)X(8)+0.0746Z(0)Z(3)+0.0035Y(0)Z(1)Z(2)X(3)X(5)Z(6)Z(7)Z(8)Z(9)Y(10)+0.0035Y(0)Z(1)Z(2)Y(3)Y(5)Z(6)Z(7)Z(8)Z(9)Y(10)+0.0035X(0)Z(1)Z(2)X(3)X(5)Z(6)Z(7)Z(8)Z(9)X(10)+0.0035X(0)Z(1)Z(2)Y(3)Y(5)Z(6)Z(7)Z(8)Z(9)X(10)+0.0035Y(0)Z(1)Z(2)X(3)X(7)Y(8)+0.0035Y(0)Z(1)Z(2)Y(3)Y(7)Y(8)+0.0035X(0)Z(1)Z(2)X(3)X(7)X(8)+0.0035X(0)Z(1)Z(2)Y(3)Y(7)X(8)-0.0035Y(0)Z(1)Z(2)X(3)X(6)Z(7)Z(8)Y(9)+0.0035Y(0)Z(1)Z(2)Y(3)X(6)Z(7)Z(8)X(9)+0.0035X(0)Z(1)Z(2)X(3)Y(6)Z(7)Z(8)Y(9)-0.0035X(0)Z(1)Z(2)Y(3)Y(6)Z(7)Z(8)X(9)-0.0062Y(0)Z(1)Z(2)X(3)X(4)Z(5)Z(6)Z(7)Z(8)Z(9)Z(10)Y(11)+0.0062Y(0)Z(1)Z(2)Y(3)X(4)Z(5)Z(6)Z(7)Z(8)Z(9)Z(10)X(11)+0.0062X(0)Z(1)Z(2)X(3)Y(4)Z(5)Z(6)Z(7)Z(8)Z(9)Z(10)Y(11)-0.0062X(0)Z(1)Z(2)Y(3)Y(4)Z(5)Z(6)Z(7)Z(8)Z(9)Z(10)X(11)+0.0729Z(0)Z(4)+0.0821Z(0)Z(5)-0.0096Y(0)Z(1)Y(2)Y(5)Z(6)Z(7)Z(8)Z(9)Z(10)Y(11)-0.0096Y(0)Z(1)Y(2)X(5)Z(6)Z(7)Z(8)Z(9)Z(10)X(11)-0.0096X(0)Z(1)X(2)Y(5)Z(6)Z(7)Z(8)Z(9)Z(10)Y(11)-0.0096X(0)Z(1)X(2)X(5)Z(6)Z(7)Z(8)Z(9)Z(10)X(11)+0.0755Z(0)Z(6)+0.0818Z(0)Z(7)-0.0070Y(0)Z(1)Y(2)Y(7)Z(8)Y(9)-0.0070Y(0)Z(1)Y(2)X(7)Z(8)X(9)-0.0070X(0)Z(1)X(2)Y(7)Z(8)Y(9)-0.0070X(0)Z(1)X(2)X(7)Z(8)X(9)+0.0755Z(0)Z(8)+0.0818Z(0)Z(9)+0.0775Z(0)Z(10)+0.0817Z(0)Z(11)+0.0746Z(1)Z(2)+0.0035Y(1)X(2)X(4)Z(5)Z(6)Z(7)Z(8)Z(9)Z(10)Y(11)+0.0035Y(1)Y(2)Y(4)Z(5)Z(6)Z(7)Z(8)Z(9)Z(10)Y(11)+0.0035X(1)X(2)X(4)Z(5)Z(6)Z(7)Z(8)Z(9)Z(10)X(11)+0.0035X(1)Y(2)Y(4)Z(5)Z(6)Z(7)Z(8)Z(9)Z(10)X(11)+0.0035Y(1)X(2)X(6)Z(7)Z(8)Y(9)+0.0035Y(1)Y(2)Y(6)Z(7)Z(8)Y(9)+0.0035X(1)X(2)X(6)Z(7)Z(8)X(9)+0.0035X(1)Y(2)Y(6)Z(7)Z(8)X(9)-0.0035Y(1)X(2)X(7)Y(8)+0.0035Y(1)Y(2)X(7)X(8)+0.0035X(1)X(2)Y(7)Y(8)-0.0035X(1)Y(2)Y(7)X(8)-0.0062Y(1)X(2)X(5)Z(6)Z(7)Z(8)Z(9)Y(10)+0.0062Y(1)Y(2)X(5)Z(6)Z(7)Z(8)Z(9)X(10)+0.0062X(1)X(2)Y(5)Z(6)Z(7)Z(8)Z(9)Y(10)-0.0062X(1)Y(2)Y(5)Z(6)Z(7)Z(8)Z(9)X(10)+0.0651Z(1)Z(3)-0.0028Y(1)Z(2)X(3)X(5)Z(6)Z(7)Z(8)Z(9)Z(10)Y(11)-0.0062Y(1)Z(2)Y(3)Y(5)Z(6)Z(7)Z(8)Z(9)Z(10)Y(11)-0.0034Y(1)Z(2)Y(3)X(5)Z(6)Z(7)Z(8)Z(9)Z(10)X(11)-0.0034X(1)Z(2)X(3)Y(5)Z(6)Z(7)Z(8)Z(9)Z(10)Y(11)-0.0062X(1)Z(2)X(3)X(5)Z(6)Z(7)Z(8)Z(9)Z(10)X(11)-0.0028X(1)Z(2)Y(3)Y(5)Z(6)Z(7)Z(8)Z(9)Z(10)X(11)+0.0000iY(1)Z(2)X(3)X(7)Z(8)Y(9)-0.0035Y(1)Z(2)Y(3)Y(7)Z(8)Y(9)-0.0035Y(1)Z(2)Y(3)X(7)Z(8)X(9)-0.0035X(1)Z(2)X(3)Y(7)Z(8)Y(9)-0.0035X(1)Z(2)X(3)X(7)Z(8)X(9)+0.0000iX(1)Z(2)Y(3)Y(7)Z(8)X(9)+0.0821Z(1)Z(4)-0.0096Y(1)Z(2)Y(3)Y(4)Z(5)Z(6)Z(7)Z(8)Z(9)Y(10)-0.0096Y(1)Z(2)Y(3)X(4)Z(5)Z(6)Z(7)Z(8)Z(9)X(10)-0.0096X(1)Z(2)X(3)Y(4)Z(5)Z(6)Z(7)Z(8)Z(9)Y(10)-0.0096X(1)Z(2)X(3)X(4)Z(5)Z(6)Z(7)Z(8)Z(9)X(10)+0.0729Z(1)Z(5)+0.0818Z(1)Z(6)-0.0070Y(1)Z(2)Y(3)Y(6)Z(7)Y(8)-0.0070Y(1)Z(2)Y(3)X(6)Z(7)X(8)-0.0070X(1)Z(2)X(3)Y(6)Z(7)Y(8)-0.0070X(1)Z(2)X(3)X(6)Z(7)X(8)+0.0755Z(1)Z(7)+0.0818Z(1)Z(8)+0.0755Z(1)Z(9)+0.0817Z(1)Z(10)+0.0775Z(1)Z(11)+0.0746Z(2)Z(3)+0.0033Y(2)X(3)X(4)Y(5)-0.0033Y(2)Y(3)X(4)X(5)-0.0033X(2)X(3)Y(4)Y(5)+0.0033X(2)Y(3)Y(4)X(5)+0.0032Y(2)X(3)X(6)Y(7)-0.0032Y(2)Y(3)X(6)X(7)-0.0032X(2)X(3)Y(6)Y(7)+0.0032X(2)Y(3)Y(6)X(7)+0.0040Y(2)X(3)X(8)Y(9)-0.0040Y(2)Y(3)X(8)X(9)-0.0040X(2)X(3)Y(8)Y(9)+0.0040X(2)Y(3)Y(8)X(9)+0.0062Y(2)X(3)X(10)Y(11)-0.0062Y(2)Y(3)X(10)X(11)-0.0062X(2)X(3)Y(10)Y(11)+0.0062X(2)Y(3)Y(10)X(11)+0.0684Z(2)Z(4)+0.0718Z(2)Z(5)+0.0685Z(2)Z(6)+0.0717Z(2)Z(7)+0.0687Z(2)Z(8)+0.0727Z(2)Z(9)+0.0685Z(2)Z(10)+0.0747Z(2)Z(11)+0.0718Z(3)Z(4)+0.0684Z(3)Z(5)+0.0717Z(3)Z(6)+0.0685Z(3)Z(7)+0.0727Z(3)Z(8)+0.0687Z(3)Z(9)+0.0747Z(3)Z(10)+0.0685Z(3)Z(11)+0.0801Z(4)Z(5)+0.0255Y(4)X(5)X(6)Y(7)-0.0255Y(4)Y(5)X(6)X(7)-0.0255X(4)X(5)Y(6)Y(7)+0.0255X(4)Y(5)Y(6)X(7)+0.0255Y(4)X(5)X(8)Y(9)-0.0255Y(4)Y(5)X(8)X(9)-0.0255X(4)X(5)Y(8)Y(9)+0.0255X(4)Y(5)Y(8)X(9)+0.0140Y(4)X(5)X(10)Y(11)-0.0140Y(4)Y(5)X(10)X(11)-0.0140X(4)X(5)Y(10)Y(11)+0.0140X(4)Y(5)Y(10)X(11)+0.0546Z(4)Z(6)+0.0085Y(4)Z(5)X(6)X(8)Z(9)Y(10)+0.0085Y(4)Z(5)Y(6)Y(8)Z(9)Y(10)+0.0000Y(4)Z(5)Y(6)X(8)Z(9)X(10)+0.0000X(4)Z(5)X(6)Y(8)Z(9)Y(10)+0.0085X(4)Z(5)X(6)X(8)Z(9)X(10)+0.0085X(4)Z(5)Y(6)Y(8)Z(9)X(10)+0.0801Z(4)Z(7)-0.0100Y(4)Z(5)Z(6)X(7)X(9)Y(10)-0.0100Y(4)Z(5)Z(6)Y(7)Y(9)Y(10)-0.0100X(4)Z(5)Z(6)X(7)X(9)X(10)-0.0100X(4)Z(5)Z(6)Y(7)Y(9)X(10)+0.0184Y(4)Z(5)Z(6)X(7)X(8)Z(9)Z(10)Y(11)-0.0184Y(4)Z(5)Z(6)Y(7)X(8)Z(9)Z(10)X(11)-0.0184X(4)Z(5)Z(6)X(7)Y(8)Z(9)Z(10)Y(11)+0.0184X(4)Z(5)Z(6)Y(7)Y(8)Z(9)Z(10)X(11)+0.0546Z(4)Z(8)+0.0801Z(4)Z(9)+0.0184Y(4)Z(5)Y(6)Y(9)Z(10)Y(11)+0.0184Y(4)Z(5)Y(6)X(9)Z(10)X(11)+0.0184X(4)Z(5)X(6)Y(9)Z(10)Y(11)+0.0184X(4)Z(5)X(6)X(9)Z(10)X(11)+0.0665Z(4)Z(10)+0.0805Z(4)Z(11)+0.0801Z(5)Z(6)-0.0100Y(5)X(6)X(8)Z(9)Z(10)Y(11)-0.0100Y(5)Y(6)Y(8)Z(9)Z(10)Y(11)-0.0100X(5)X(6)X(8)Z(9)Z(10)X(11)-0.0100X(5)Y(6)Y(8)Z(9)Z(10)X(11)+0.0184Y(5)X(6)X(9)Y(10)-0.0184Y(5)Y(6)X(9)X(10)-0.0184X(5)X(6)Y(9)Y(10)+0.0184X(5)Y(6)Y(9)X(10)+0.0546Z(5)Z(7)+0.0085Y(5)Z(6)X(7)X(9)Z(10)Y(11)+0.0085Y(5)Z(6)Y(7)Y(9)Z(10)Y(11)+0.0000Y(5)Z(6)Y(7)X(9)Z(10)X(11)+0.0000X(5)Z(6)X(7)Y(9)Z(10)Y(11)+0.0085X(5)Z(6)X(7)X(9)Z(10)X(11)+0.0085X(5)Z(6)Y(7)Y(9)Z(10)X(11)+0.0801Z(5)Z(8)+0.0184Y(5)Z(6)Y(7)Y(8)Z(9)Y(10)+0.0184Y(5)Z(6)Y(7)X(8)Z(9)X(10)+0.0184X(5)Z(6)X(7)Y(8)Z(9)Y(10)+0.0184X(5)Z(6)X(7)X(8)Z(9)X(10)+0.0546Z(5)Z(9)+0.0805Z(5)Z(10)+0.0665Z(5)Z(11)+0.0874Z(6)Z(7)+0.0072Y(6)X(7)X(8)Y(9)-0.0072Y(6)Y(7)X(8)X(9)-0.0072X(6)X(7)Y(8)Y(9)+0.0072X(6)Y(7)Y(8)X(9)+0.0139Y(6)X(7)X(10)Y(11)-0.0139Y(6)Y(7)X(10)X(11)-0.0139X(6)X(7)Y(10)Y(11)+0.0139X(6)Y(7)Y(10)X(11)+0.0660Z(6)Z(8)+0.0731Z(6)Z(9)+0.0604Z(6)Z(10)+0.0743Z(6)Z(11)+0.0731Z(7)Z(8)+0.0660Z(7)Z(9)+0.0743Z(7)Z(10)+0.0604Z(7)Z(11)+0.0874Z(8)Z(9)+0.0242Y(8)X(9)X(10)Y(11)-0.0242Y(8)Y(9)X(10)X(11)-0.0242X(8)X(9)Y(10)Y(11)+0.0242X(8)Y(9)Y(10)X(11)+0.0633Z(8)Z(10)+0.0876Z(8)Z(11)+0.0876Z(9)Z(10)+0.0633Z(9)Z(11)+0.0892Z(10)Z(11)\n",
      "[-227.90858412 -227.69974378 -227.69974378 ... -211.68844106 -211.68844106\n",
      " -209.01331827]\n",
      "lowest energy =  -227.908584123909\n"
     ]
    }
   ],
   "source": [
    "#Setting Active Space\n",
    "import tequila as tq\n",
    "import numpy\n",
    "geomstring=\"structure/benzene.xyz\"\n",
    "active_orbitals = {\"AG\":[0,1,2], \"B1G\":[0,1], \"B2G\":[0], \"B3G\":[0], \"AU\":[0], \"B1U\":[0]}\n",
    "molecule = tq.chemistry.Molecule(geometry = geomstring, basis_set=\"sto-3g\", active_orbitals=active_orbitals)\n",
    "H = molecule.make_hamiltonian()\n",
    "eigenValues = numpy.linalg.eigvalsh(H.to_matrix())\n",
    "print(\"Hamiltonian has {} terms\".format(len(H)))\n",
    "print(H)\n",
    "print(eigenValues)\n",
    "print(\"lowest energy = \", eigenValues[0])"
   ]
  },
  {
   "cell_type": "code",
   "execution_count": 4,
   "id": "56caad5d",
   "metadata": {},
   "outputs": [
    {
     "name": "stdout",
     "output_type": "stream",
     "text": [
      "There are known issues with some psi4 methods and frozen virtual orbitals. Proceed with fingers crossed for mp2.\n",
      "Optimizer: <class 'tequila.optimizers.optimizer_scipy.OptimizerSciPy'> \n",
      "backend         : qulacs\n",
      "device          : None\n",
      "samples         : None\n",
      "save_history    : True\n",
      "noise           : None\n",
      "\n",
      "Method          : BFGS\n",
      "Objective       : 1 expectationvalues\n",
      "gradient        : 30 expectationvalues\n",
      "\n",
      "active variables : 15\n",
      "\n",
      "E=-227.88792153  angles= {(((0, 1),), 'D', (None, 0)): 0.0, (((0, 2),), 'D', (None, 0)): 0.0, (((0, 3),), 'D', (None, 0)): 0.0, (((0, 4),), 'D', (None, 0)): 0.0, (((0, 5),), 'D', (None, 0)): 0.0, (((1, 2),), 'D', (None, 0)): 0.0, (((1, 3),), 'D', (None, 0)): 0.0, (((1, 4),), 'D', (None, 0)): 0.0, (((1, 5),), 'D', (None, 0)): 0.0, (((2, 3),), 'D', (None, 0)): 0.0, (((2, 4),), 'D', (None, 0)): 0.0, (((2, 5),), 'D', (None, 0)): 0.0, (((3, 4),), 'D', (None, 0)): 0.0, (((3, 5),), 'D', (None, 0)): 0.0, (((4, 5),), 'D', (None, 0)): 0.0}  samples= None\n",
      "E=-227.91711515  angles= {(((0, 1),), 'D', (None, 0)): 0.0, (((0, 2),), 'D', (None, 0)): 0.0, (((0, 3),), 'D', (None, 0)): -0.0558624267578125, (((0, 4),), 'D', (None, 0)): -0.0558624267578125, (((0, 5),), 'D', (None, 0)): -0.04338836669921875, (((1, 2),), 'D', (None, 0)): 0.0, (((1, 3),), 'D', (None, 0)): -0.0554046630859375, (((1, 4),), 'D', (None, 0)): -0.09698486328125, (((1, 5),), 'D', (None, 0)): -0.0570220947265625, (((2, 3),), 'D', (None, 0)): -0.09698486328125, (((2, 4),), 'D', (None, 0)): -0.05541229248046875, (((2, 5),), 'D', (None, 0)): -0.0570220947265625, (((3, 4),), 'D', (None, 0)): 0.0, (((3, 5),), 'D', (None, 0)): 0.0, (((4, 5),), 'D', (None, 0)): 0.0}  samples= None\n",
      "E=-227.92873702  angles= {(((0, 1),), 'D', (None, 0)): 0.0, (((0, 2),), 'D', (None, 0)): 0.0, (((0, 3),), 'D', (None, 0)): -0.09786596742047593, (((0, 4),), 'D', (None, 0)): -0.0976625873202719, (((0, 5),), 'D', (None, 0)): -0.052762978792723444, (((1, 2),), 'D', (None, 0)): 0.0, (((1, 3),), 'D', (None, 0)): -0.11233874719939826, (((1, 4),), 'D', (None, 0)): -0.22243699470153327, (((1, 5),), 'D', (None, 0)): -0.09314485790925102, (((2, 3),), 'D', (None, 0)): -0.22239341325148954, (((2, 4),), 'D', (None, 0)): -0.11224546901406462, (((2, 5),), 'D', (None, 0)): -0.09317391220928017, (((3, 4),), 'D', (None, 0)): 0.0, (((3, 5),), 'D', (None, 0)): -0.00309428295310414, (((4, 5),), 'D', (None, 0)): -0.0031088101031187133}  samples= None\n",
      "E=-227.92990736  angles= {(((0, 1),), 'D', (None, 0)): 0.0, (((0, 2),), 'D', (None, 0)): 0.0, (((0, 3),), 'D', (None, 0)): -0.09239769788748751, (((0, 4),), 'D', (None, 0)): -0.09184046913023139, (((0, 5),), 'D', (None, 0)): -0.04390635579711417, (((1, 2),), 'D', (None, 0)): 0.0, (((1, 3),), 'D', (None, 0)): -0.11833720545048518, (((1, 4),), 'D', (None, 0)): -0.2551877622991945, (((1, 5),), 'D', (None, 0)): -0.08417244248767164, (((2, 3),), 'D', (None, 0)): -0.25516701705373407, (((2, 4),), 'D', (None, 0)): -0.11825510207973058, (((2, 5),), 'D', (None, 0)): -0.08419479890338182, (((3, 4),), 'D', (None, 0)): -5.115751241935877e-05, (((3, 5),), 'D', (None, 0)): -0.0069211875003505965, (((4, 5),), 'D', (None, 0)): -0.00691957633010084}  samples= None\n",
      "E=-227.93052215  angles= {(((0, 1),), 'D', (None, 0)): 0.0, (((0, 2),), 'D', (None, 0)): 0.0, (((0, 3),), 'D', (None, 0)): -0.07696703938301278, (((0, 4),), 'D', (None, 0)): -0.07592142777368031, (((0, 5),), 'D', (None, 0)): -0.038460325917025286, (((1, 2),), 'D', (None, 0)): 0.0, (((1, 3),), 'D', (None, 0)): -0.11737617413433302, (((1, 4),), 'D', (None, 0)): -0.28464169015127705, (((1, 5),), 'D', (None, 0)): -0.06696105065775612, (((2, 3),), 'D', (None, 0)): -0.28465561234711056, (((2, 4),), 'D', (None, 0)): -0.11738542528263475, (((2, 5),), 'D', (None, 0)): -0.06695235238086522, (((3, 4),), 'D', (None, 0)): -0.0001377637463377784, (((3, 5),), 'D', (None, 0)): -0.011751444319324057, (((4, 5),), 'D', (None, 0)): -0.011716383817192744}  samples= None\n",
      "E=-227.93056604  angles= {(((0, 1),), 'D', (None, 0)): 0.0, (((0, 2),), 'D', (None, 0)): 0.0, (((0, 3),), 'D', (None, 0)): -0.07206828102975894, (((0, 4),), 'D', (None, 0)): -0.07096368033221169, (((0, 5),), 'D', (None, 0)): -0.04234447893476166, (((1, 2),), 'D', (None, 0)): 0.0, (((1, 3),), 'D', (None, 0)): -0.11471830378017904, (((1, 4),), 'D', (None, 0)): -0.286749550989483, (((1, 5),), 'D', (None, 0)): -0.06373585567353224, (((2, 3),), 'D', (None, 0)): -0.28675827995903236, (((2, 4),), 'D', (None, 0)): -0.11473336235071123, (((2, 5),), 'D', (None, 0)): -0.06372505615106064, (((3, 4),), 'D', (None, 0)): -0.00016203666820308998, (((3, 5),), 'D', (None, 0)): -0.012242748066254874, (((4, 5),), 'D', (None, 0)): -0.012205039988559197}  samples= None\n",
      "E=-227.93057449  angles= {(((0, 1),), 'D', (None, 0)): 0.0, (((0, 2),), 'D', (None, 0)): 0.0, (((0, 3),), 'D', (None, 0)): -0.069950884765735, (((0, 4),), 'D', (None, 0)): -0.06885676963471324, (((0, 5),), 'D', (None, 0)): -0.045960710445003966, (((1, 2),), 'D', (None, 0)): 0.0, (((1, 3),), 'D', (None, 0)): -0.11306806969540889, (((1, 4),), 'D', (None, 0)): -0.2867978434287594, (((1, 5),), 'D', (None, 0)): -0.06330928837358046, (((2, 3),), 'D', (None, 0)): -0.28678446517648576, (((2, 4),), 'D', (None, 0)): -0.11301704697084791, (((2, 5),), 'D', (None, 0)): -0.06330930185635274, (((3, 4),), 'D', (None, 0)): -0.00017627735984458926, (((3, 5),), 'D', (None, 0)): -0.012189334915732953, (((4, 5),), 'D', (None, 0)): -0.012151065646664043}  samples= None\n",
      "Optimization terminated successfully.\n",
      "         Current function value: -227.930574\n",
      "         Iterations: 6\n",
      "         Function evaluations: 7\n",
      "         Gradient evaluations: 7\n",
      "VQE : -227.93057f\n",
      "MP2 : -227.94749f\n",
      "CISD: -227.98666f\n",
      "FCI : -227.99711f\n"
     ]
    }
   ],
   "source": [
    "import tequila as tq\n",
    "threshold = 1.e-6\n",
    "active = {\"B1u\": [0], \"B3g\": [0, 1], \"B2g\": [0], \"Au\": [0], \"b1u\": [1]}\n",
    "molecule = tq.quantumchemistry.Molecule(geometry=geomstring, basis_set='sto-3g', active_orbitals=active)\n",
    "H = molecule.make_hamiltonian()\n",
    "\n",
    "U = molecule.make_upccgsd_ansatz(name=\"UpCCGD\")\n",
    "\n",
    "# define the expectationvalue\n",
    "E = tq.ExpectationValue(H=H, U=U)\n",
    "\n",
    "# compute reference energies\n",
    "mp2 = molecule.compute_energy(\"mp2\")\n",
    "cisd = molecule.compute_energy(\"detci\", options={\"detci__ex_level\": 2})\n",
    "fci = molecule.compute_energy(\"fci\")\n",
    "\n",
    "# optimize\n",
    "result = tq.minimize(objective=E, method=\"BFGS\", initial_values=0.0)\n",
    "\n",
    "print(\"VQE : {:+2.8}f\".format(result.energy))\n",
    "print(\"MP2 : {:+2.8}f\".format(mp2))\n",
    "print(\"CISD: {:+2.8}f\".format(cisd))\n",
    "print(\"FCI : {:+2.8}f\".format(fci))"
   ]
  },
  {
   "cell_type": "code",
   "execution_count": 5,
   "id": "75094270",
   "metadata": {},
   "outputs": [
    {
     "data": {
      "image/png": "[encoded data removed]",
      "text/plain": [
       "<Figure size 432x288 with 1 Axes>"
      ]
     },
     "metadata": {
      "needs_background": "light"
     },
     "output_type": "display_data"
    }
   ],
   "source": [
    "result.history.plot(\"energies\", baselines={\"fci\":fci, \"cisd\": cisd, \"mp2\":mp2}, filename=\"benzene_result_bfgs\")"
   ]
  },
  {
   "cell_type": "code",
   "execution_count": 6,
   "id": "b0e5bd7b",
   "metadata": {},
   "outputs": [
    {
     "name": "stdout",
     "output_type": "stream",
     "text": [
      "There are known issues with some psi4 methods and frozen virtual orbitals. Proceed with fingers crossed for mp2.\n",
      "Optimizer: <class 'tequila.optimizers.optimizer_scipy.OptimizerSciPy'> \n",
      "backend         : qulacs\n",
      "device          : None\n",
      "samples         : None\n",
      "save_history    : True\n",
      "noise           : None\n",
      "\n",
      "Method          : BFGS\n",
      "Objective       : 1 expectationvalues\n",
      "gradient        : 30 expectationvalues\n",
      "\n",
      "active variables : 15\n",
      "\n",
      "E=-227.88792153  angles= {(((0, 1),), 'D', (None, 0)): 0.0, (((0, 2),), 'D', (None, 0)): 0.0, (((0, 3),), 'D', (None, 0)): 0.0, (((0, 4),), 'D', (None, 0)): 0.0, (((0, 5),), 'D', (None, 0)): 0.0, (((1, 2),), 'D', (None, 0)): 0.0, (((1, 3),), 'D', (None, 0)): 0.0, (((1, 4),), 'D', (None, 0)): 0.0, (((1, 5),), 'D', (None, 0)): 0.0, (((2, 3),), 'D', (None, 0)): 0.0, (((2, 4),), 'D', (None, 0)): 0.0, (((2, 5),), 'D', (None, 0)): 0.0, (((3, 4),), 'D', (None, 0)): 0.0, (((3, 5),), 'D', (None, 0)): 0.0, (((4, 5),), 'D', (None, 0)): 0.0}  samples= None\n",
      "E=-227.91711515  angles= {(((0, 1),), 'D', (None, 0)): 0.0, (((0, 2),), 'D', (None, 0)): 0.0, (((0, 3),), 'D', (None, 0)): -0.0558624267578125, (((0, 4),), 'D', (None, 0)): -0.0558624267578125, (((0, 5),), 'D', (None, 0)): -0.04338836669921875, (((1, 2),), 'D', (None, 0)): 0.0, (((1, 3),), 'D', (None, 0)): -0.0554046630859375, (((1, 4),), 'D', (None, 0)): -0.09698486328125, (((1, 5),), 'D', (None, 0)): -0.0570220947265625, (((2, 3),), 'D', (None, 0)): -0.09698486328125, (((2, 4),), 'D', (None, 0)): -0.05541229248046875, (((2, 5),), 'D', (None, 0)): -0.0570220947265625, (((3, 4),), 'D', (None, 0)): 0.0, (((3, 5),), 'D', (None, 0)): 0.0, (((4, 5),), 'D', (None, 0)): 0.0}  samples= None\n",
      "E=-227.92873702  angles= {(((0, 1),), 'D', (None, 0)): 0.0, (((0, 2),), 'D', (None, 0)): 0.0, (((0, 3),), 'D', (None, 0)): -0.09786596742047593, (((0, 4),), 'D', (None, 0)): -0.0976625873202719, (((0, 5),), 'D', (None, 0)): -0.052762978792723444, (((1, 2),), 'D', (None, 0)): 0.0, (((1, 3),), 'D', (None, 0)): -0.11233874719939826, (((1, 4),), 'D', (None, 0)): -0.22243699470153327, (((1, 5),), 'D', (None, 0)): -0.09314485790925102, (((2, 3),), 'D', (None, 0)): -0.22239341325148954, (((2, 4),), 'D', (None, 0)): -0.11224546901406462, (((2, 5),), 'D', (None, 0)): -0.09317391220928017, (((3, 4),), 'D', (None, 0)): 0.0, (((3, 5),), 'D', (None, 0)): -0.00309428295310414, (((4, 5),), 'D', (None, 0)): -0.0031088101031187133}  samples= None\n",
      "E=-227.92990736  angles= {(((0, 1),), 'D', (None, 0)): 0.0, (((0, 2),), 'D', (None, 0)): 0.0, (((0, 3),), 'D', (None, 0)): -0.09239769788748751, (((0, 4),), 'D', (None, 0)): -0.09184046913023139, (((0, 5),), 'D', (None, 0)): -0.04390635579711417, (((1, 2),), 'D', (None, 0)): 0.0, (((1, 3),), 'D', (None, 0)): -0.11833720545048518, (((1, 4),), 'D', (None, 0)): -0.2551877622991945, (((1, 5),), 'D', (None, 0)): -0.08417244248767164, (((2, 3),), 'D', (None, 0)): -0.25516701705373407, (((2, 4),), 'D', (None, 0)): -0.11825510207973058, (((2, 5),), 'D', (None, 0)): -0.08419479890338182, (((3, 4),), 'D', (None, 0)): -5.115751241935877e-05, (((3, 5),), 'D', (None, 0)): -0.0069211875003505965, (((4, 5),), 'D', (None, 0)): -0.00691957633010084}  samples= None\n",
      "E=-227.93052215  angles= {(((0, 1),), 'D', (None, 0)): 0.0, (((0, 2),), 'D', (None, 0)): 0.0, (((0, 3),), 'D', (None, 0)): -0.07696703938301278, (((0, 4),), 'D', (None, 0)): -0.07592142777368031, (((0, 5),), 'D', (None, 0)): -0.038460325917025286, (((1, 2),), 'D', (None, 0)): 0.0, (((1, 3),), 'D', (None, 0)): -0.11737617413433302, (((1, 4),), 'D', (None, 0)): -0.28464169015127705, (((1, 5),), 'D', (None, 0)): -0.06696105065775612, (((2, 3),), 'D', (None, 0)): -0.28465561234711056, (((2, 4),), 'D', (None, 0)): -0.11738542528263475, (((2, 5),), 'D', (None, 0)): -0.06695235238086522, (((3, 4),), 'D', (None, 0)): -0.0001377637463377784, (((3, 5),), 'D', (None, 0)): -0.011751444319324057, (((4, 5),), 'D', (None, 0)): -0.011716383817192744}  samples= None\n",
      "E=-227.93056604  angles= {(((0, 1),), 'D', (None, 0)): 0.0, (((0, 2),), 'D', (None, 0)): 0.0, (((0, 3),), 'D', (None, 0)): -0.07206828102975894, (((0, 4),), 'D', (None, 0)): -0.07096368033221169, (((0, 5),), 'D', (None, 0)): -0.04234447893476166, (((1, 2),), 'D', (None, 0)): 0.0, (((1, 3),), 'D', (None, 0)): -0.11471830378017904, (((1, 4),), 'D', (None, 0)): -0.286749550989483, (((1, 5),), 'D', (None, 0)): -0.06373585567353224, (((2, 3),), 'D', (None, 0)): -0.28675827995903236, (((2, 4),), 'D', (None, 0)): -0.11473336235071123, (((2, 5),), 'D', (None, 0)): -0.06372505615106064, (((3, 4),), 'D', (None, 0)): -0.00016203666820308998, (((3, 5),), 'D', (None, 0)): -0.012242748066254874, (((4, 5),), 'D', (None, 0)): -0.012205039988559197}  samples= None\n",
      "E=-227.93057449  angles= {(((0, 1),), 'D', (None, 0)): 0.0, (((0, 2),), 'D', (None, 0)): 0.0, (((0, 3),), 'D', (None, 0)): -0.069950884765735, (((0, 4),), 'D', (None, 0)): -0.06885676963471324, (((0, 5),), 'D', (None, 0)): -0.045960710445003966, (((1, 2),), 'D', (None, 0)): 0.0, (((1, 3),), 'D', (None, 0)): -0.11306806969540889, (((1, 4),), 'D', (None, 0)): -0.2867978434287594, (((1, 5),), 'D', (None, 0)): -0.06330928837358046, (((2, 3),), 'D', (None, 0)): -0.28678446517648576, (((2, 4),), 'D', (None, 0)): -0.11301704697084791, (((2, 5),), 'D', (None, 0)): -0.06330930185635274, (((3, 4),), 'D', (None, 0)): -0.00017627735984458926, (((3, 5),), 'D', (None, 0)): -0.012189334915732953, (((4, 5),), 'D', (None, 0)): -0.012151065646664043}  samples= None\n",
      "Optimization terminated successfully.\n",
      "         Current function value: -227.930574\n",
      "         Iterations: 6\n",
      "         Function evaluations: 7\n",
      "         Gradient evaluations: 7\n",
      "VQE : -227.93057f\n",
      "MP2 : -227.94749f\n",
      "CISD: -227.98666f\n",
      "FCI : -227.99711f\n"
     ]
    }
   ],
   "source": [
    "import tequila as tq\n",
    "threshold = 1.e-6\n",
    "active = {\"AG\":[0], \"B1u\": [0], \"B3g\": [0, 1], \"B2g\": [0], \"Au\": [0], \"b1u\": [1]}\n",
    "molecule = tq.quantumchemistry.Molecule(geometry=geomstring, basis_set='sto-3g', active_orbitals=active)\n",
    "H = molecule.make_hamiltonian()\n",
    "\n",
    "U = molecule.make_upccgsd_ansatz(name=\"UpCCGD\")\n",
    "\n",
    "# define the expectationvalue\n",
    "E = tq.ExpectationValue(H=H, U=U)\n",
    "\n",
    "# compute reference energies\n",
    "mp2 = molecule.compute_energy(\"mp2\")\n",
    "cisd = molecule.compute_energy(\"detci\", options={\"detci__ex_level\": 2})\n",
    "fci = molecule.compute_energy(\"fci\")\n",
    "\n",
    "# optimize\n",
    "result = tq.minimize(objective=E, method=\"BFGS\", initial_values=0.0)\n",
    "\n",
    "print(\"VQE : {:+2.8}f\".format(result.energy))\n",
    "print(\"MP2 : {:+2.8}f\".format(mp2))\n",
    "print(\"CISD: {:+2.8}f\".format(cisd))\n",
    "print(\"FCI : {:+2.8}f\".format(fci))"
   ]
  },
  {
   "cell_type": "code",
   "execution_count": 7,
   "id": "e8984e9a",
   "metadata": {},
   "outputs": [
    {
     "data": {
      "image/png": "[encoded data removed]",
      "text/plain": [
       "<Figure size 432x288 with 1 Axes>"
      ]
     },
     "metadata": {
      "needs_background": "light"
     },
     "output_type": "display_data"
    }
   ],
   "source": [
    "result.history.plot(\"energies\", baselines={\"fci\":fci, \"cisd\": cisd, \"mp2\":mp2}, filename=\"benzene_result_bfgs\")"
   ]
  },
  {
   "cell_type": "code",
   "execution_count": 8,
   "id": "08bbdeb5",
   "metadata": {},
   "outputs": [
    {
     "name": "stdout",
     "output_type": "stream",
     "text": [
      "There are known issues with some psi4 methods and frozen virtual orbitals. Proceed with fingers crossed for mp2.\n",
      "Optimizer: <class 'tequila.optimizers.optimizer_scipy.OptimizerSciPy'> \n",
      "backend         : qulacs\n",
      "device          : None\n",
      "samples         : None\n",
      "save_history    : True\n",
      "noise           : None\n",
      "\n",
      "Method          : BFGS\n",
      "Objective       : 1 expectationvalues\n",
      "gradient        : 30 expectationvalues\n",
      "\n",
      "active variables : 15\n",
      "\n",
      "E=-227.88792153  angles= {(((0, 1),), 'D', (None, 0)): 0.0, (((0, 2),), 'D', (None, 0)): 0.0, (((0, 3),), 'D', (None, 0)): 0.0, (((0, 4),), 'D', (None, 0)): 0.0, (((0, 5),), 'D', (None, 0)): 0.0, (((1, 2),), 'D', (None, 0)): 0.0, (((1, 3),), 'D', (None, 0)): 0.0, (((1, 4),), 'D', (None, 0)): 0.0, (((1, 5),), 'D', (None, 0)): 0.0, (((2, 3),), 'D', (None, 0)): 0.0, (((2, 4),), 'D', (None, 0)): 0.0, (((2, 5),), 'D', (None, 0)): 0.0, (((3, 4),), 'D', (None, 0)): 0.0, (((3, 5),), 'D', (None, 0)): 0.0, (((4, 5),), 'D', (None, 0)): 0.0}  samples= None\n",
      "E=-227.90073766  angles= {(((0, 1),), 'D', (None, 0)): 0.0, (((0, 2),), 'D', (None, 0)): 0.0, (((0, 3),), 'D', (None, 0)): 0.0, (((0, 4),), 'D', (None, 0)): 0.0, (((0, 5),), 'D', (None, 0)): -0.016845703125, (((1, 2),), 'D', (None, 0)): 0.0, (((1, 3),), 'D', (None, 0)): 0.0, (((1, 4),), 'D', (None, 0)): 0.0, (((1, 5),), 'D', (None, 0)): -0.02468109130859375, (((2, 3),), 'D', (None, 0)): 0.0, (((2, 4),), 'D', (None, 0)): 0.0, (((2, 5),), 'D', (None, 0)): -0.0558624267578125, (((3, 4),), 'D', (None, 0)): 0.0, (((3, 5),), 'D', (None, 0)): -0.0554046630859375, (((4, 5),), 'D', (None, 0)): -0.09698486328125}  samples= None\n",
      "E=-227.90788782  angles= {(((0, 1),), 'D', (None, 0)): 0.0, (((0, 2),), 'D', (None, 0)): 0.0, (((0, 3),), 'D', (None, 0)): 0.0, (((0, 4),), 'D', (None, 0)): 0.0, (((0, 5),), 'D', (None, 0)): -0.009024579237322528, (((1, 2),), 'D', (None, 0)): 0.0, (((1, 3),), 'D', (None, 0)): 0.0, (((1, 4),), 'D', (None, 0)): 0.0, (((1, 5),), 'D', (None, 0)): -0.03585943592190205, (((2, 3),), 'D', (None, 0)): 0.0, (((2, 4),), 'D', (None, 0)): 0.0, (((2, 5),), 'D', (None, 0)): -0.11178570677964625, (((3, 4),), 'D', (None, 0)): 0.0, (((3, 5),), 'D', (None, 0)): -0.13236668442769672, (((4, 5),), 'D', (None, 0)): -0.2549149522346259}  samples= None\n",
      "E=-227.90831995  angles= {(((0, 1),), 'D', (None, 0)): 0.0, (((0, 2),), 'D', (None, 0)): 0.0, (((0, 3),), 'D', (None, 0)): 0.0, (((0, 4),), 'D', (None, 0)): 0.0, (((0, 5),), 'D', (None, 0)): -0.009100260382950984, (((1, 2),), 'D', (None, 0)): 0.0, (((1, 3),), 'D', (None, 0)): 0.0, (((1, 4),), 'D', (None, 0)): 0.0, (((1, 5),), 'D', (None, 0)): -0.029285763212252784, (((2, 3),), 'D', (None, 0)): 0.0, (((2, 4),), 'D', (None, 0)): 0.0, (((2, 5),), 'D', (None, 0)): -0.0975134912635569, (((3, 4),), 'D', (None, 0)): 0.0, (((3, 5),), 'D', (None, 0)): -0.13378748854388509, (((4, 5),), 'D', (None, 0)): -0.27592794520778974}  samples= None\n",
      "E=-227.90858050  angles= {(((0, 1),), 'D', (None, 0)): 0.0, (((0, 2),), 'D', (None, 0)): 0.0, (((0, 3),), 'D', (None, 0)): 0.0, (((0, 4),), 'D', (None, 0)): 0.0, (((0, 5),), 'D', (None, 0)): -0.008807414991306066, (((1, 2),), 'D', (None, 0)): 0.0, (((1, 3),), 'D', (None, 0)): 0.0, (((1, 4),), 'D', (None, 0)): 0.0, (((1, 5),), 'D', (None, 0)): -0.023645327368912852, (((2, 3),), 'D', (None, 0)): 0.0, (((2, 4),), 'D', (None, 0)): 0.0, (((2, 5),), 'D', (None, 0)): -0.070603286263564, (((3, 4),), 'D', (None, 0)): 0.0, (((3, 5),), 'D', (None, 0)): -0.13018694813953352, (((4, 5),), 'D', (None, 0)): -0.30042830866555315}  samples= None\n",
      "E=-227.90858354  angles= {(((0, 1),), 'D', (None, 0)): 0.0, (((0, 2),), 'D', (None, 0)): 0.0, (((0, 3),), 'D', (None, 0)): 0.0, (((0, 4),), 'D', (None, 0)): 0.0, (((0, 5),), 'D', (None, 0)): -0.008811413065477445, (((1, 2),), 'D', (None, 0)): 0.0, (((1, 3),), 'D', (None, 0)): 0.0, (((1, 4),), 'D', (None, 0)): 0.0, (((1, 5),), 'D', (None, 0)): -0.025147121206815698, (((2, 3),), 'D', (None, 0)): 0.0, (((2, 4),), 'D', (None, 0)): 0.0, (((2, 5),), 'D', (None, 0)): -0.06929446717461739, (((3, 4),), 'D', (None, 0)): 0.0, (((3, 5),), 'D', (None, 0)): -0.12893494014887458, (((4, 5),), 'D', (None, 0)): -0.3008525758318063}  samples= None\n",
      "Optimization terminated successfully.\n",
      "         Current function value: -227.908584\n",
      "         Iterations: 5\n",
      "         Function evaluations: 6\n",
      "         Gradient evaluations: 6\n",
      "VQE : -227.90858f\n",
      "MP2 : -227.90237f\n",
      "CISD: -227.90831f\n",
      "FCI : -227.90831f\n"
     ]
    }
   ],
   "source": [
    "import tequila as tq\n",
    "threshold = 1.e-6\n",
    "active = {\"AG\":[0,1,2], \"B1G\":[0,1], \"B2G\":[0], \"B3G\":[0], \"AU\":[0], \"B1U\":[0]}\n",
    "molecule = tq.quantumchemistry.Molecule(geometry=geomstring, basis_set='sto-3g', active_orbitals=active)\n",
    "H = molecule.make_hamiltonian()\n",
    "         \n",
    "U = molecule.make_upccgsd_ansatz(name=\"UpCCGD\")\n",
    "\n",
    "# define the expectationvalue\n",
    "E = tq.ExpectationValue(H=H, U=U)\n",
    "\n",
    "# compute reference energies\n",
    "mp2 = molecule.compute_energy(\"mp2\")\n",
    "cisd = molecule.compute_energy(\"detci\", options={\"detci__ex_level\": 2})\n",
    "fci = molecule.compute_energy(\"fci\")\n",
    "\n",
    "# optimize\n",
    "result = tq.minimize(objective=E, method=\"BFGS\", initial_values=0.0)\n",
    "\n",
    "print(\"VQE : {:+2.8}f\".format(result.energy))\n",
    "print(\"MP2 : {:+2.8}f\".format(mp2))\n",
    "print(\"CISD: {:+2.8}f\".format(cisd))\n",
    "print(\"FCI : {:+2.8}f\".format(fci))"
   ]
  },
  {
   "cell_type": "code",
   "execution_count": 9,
   "id": "c3c4a407",
   "metadata": {},
   "outputs": [
    {
     "data": {
      "image/png": "[encoded data removed]",
      "text/plain": [
       "<Figure size 432x288 with 1 Axes>"
      ]
     },
     "metadata": {
      "needs_background": "light"
     },
     "output_type": "display_data"
    }
   ],
   "source": [
    "result.history.plot(\"energies\", baselines={\"fci\":fci, \"cisd\": cisd, \"mp2\":mp2}, filename=\"benzene_result_bfgs\")"
   ]
  },
  {
   "cell_type": "code",
   "execution_count": 16,
   "id": "be3149b9",
   "metadata": {},
   "outputs": [
    {
     "name": "stdout",
     "output_type": "stream",
     "text": [
      "There are known issues with some psi4 methods and frozen virtual orbitals. Proceed with fingers crossed for mp2.\n",
      "Optimizer: <class 'tequila.optimizers.optimizer_scipy.OptimizerSciPy'> \n",
      "backend         : qulacs\n",
      "device          : None\n",
      "samples         : None\n",
      "save_history    : True\n",
      "noise           : None\n",
      "\n",
      "Method          : BFGS\n",
      "Objective       : 1 expectationvalues\n",
      "gradient        : 56 expectationvalues\n",
      "\n",
      "active variables : 28\n",
      "\n",
      "E=-227.88792153  angles= {(((0, 1),), 'D', (None, 0)): 0.0, (((0, 2),), 'D', (None, 0)): 0.0, (((0, 3),), 'D', (None, 0)): 0.0, (((0, 4),), 'D', (None, 0)): 0.0, (((0, 5),), 'D', (None, 0)): 0.0, (((0, 6),), 'D', (None, 0)): 0.0, (((0, 7),), 'D', (None, 0)): 0.0, (((1, 2),), 'D', (None, 0)): 0.0, (((1, 3),), 'D', (None, 0)): 0.0, (((1, 4),), 'D', (None, 0)): 0.0, (((1, 5),), 'D', (None, 0)): 0.0, (((1, 6),), 'D', (None, 0)): 0.0, (((1, 7),), 'D', (None, 0)): 0.0, (((2, 3),), 'D', (None, 0)): 0.0, (((2, 4),), 'D', (None, 0)): 0.0, (((2, 5),), 'D', (None, 0)): 0.0, (((2, 6),), 'D', (None, 0)): 0.0, (((2, 7),), 'D', (None, 0)): 0.0, (((3, 4),), 'D', (None, 0)): 0.0, (((3, 5),), 'D', (None, 0)): 0.0, (((3, 6),), 'D', (None, 0)): 0.0, (((3, 7),), 'D', (None, 0)): 0.0, (((4, 5),), 'D', (None, 0)): 0.0, (((4, 6),), 'D', (None, 0)): 0.0, (((4, 7),), 'D', (None, 0)): 0.0, (((5, 6),), 'D', (None, 0)): 0.0, (((5, 7),), 'D', (None, 0)): 0.0, (((6, 7),), 'D', (None, 0)): 0.0}  samples= None\n",
      "E=-227.91310036  angles= {(((0, 1),), 'D', (None, 0)): 0.0, (((0, 2),), 'D', (None, 0)): 0.0, (((0, 3),), 'D', (None, 0)): 0.0, (((0, 4),), 'D', (None, 0)): 0.0, (((0, 5),), 'D', (None, 0)): 0.0, (((0, 6),), 'D', (None, 0)): -0.016845703125, (((0, 7),), 'D', (None, 0)): -0.01685333251953125, (((1, 2),), 'D', (None, 0)): 0.0, (((1, 3),), 'D', (None, 0)): 0.0, (((1, 4),), 'D', (None, 0)): 0.0, (((1, 5),), 'D', (None, 0)): 0.0, (((1, 6),), 'D', (None, 0)): -0.02468109130859375, (((1, 7),), 'D', (None, 0)): -0.006011962890625, (((2, 3),), 'D', (None, 0)): 0.0, (((2, 4),), 'D', (None, 0)): 0.0, (((2, 5),), 'D', (None, 0)): 0.0, (((2, 6),), 'D', (None, 0)): -0.0558624267578125, (((2, 7),), 'D', (None, 0)): -0.0558624267578125, (((3, 4),), 'D', (None, 0)): 0.0, (((3, 5),), 'D', (None, 0)): 0.0, (((3, 6),), 'D', (None, 0)): -0.0063323974609375, (((3, 7),), 'D', (None, 0)): -0.0046539306640625, (((4, 5),), 'D', (None, 0)): 0.0, (((4, 6),), 'D', (None, 0)): -0.0554046630859375, (((4, 7),), 'D', (None, 0)): -0.09698486328125, (((5, 6),), 'D', (None, 0)): -0.09698486328125, (((5, 7),), 'D', (None, 0)): -0.05541229248046875, (((6, 7),), 'D', (None, 0)): 0.0}  samples= None\n",
      "E=-227.92684563  angles= {(((0, 1),), 'D', (None, 0)): 0.0, (((0, 2),), 'D', (None, 0)): 0.0, (((0, 3),), 'D', (None, 0)): 0.0, (((0, 4),), 'D', (None, 0)): 0.0, (((0, 5),), 'D', (None, 0)): 0.0, (((0, 6),), 'D', (None, 0)): -0.008529224410758972, (((0, 7),), 'D', (None, 0)): -0.009232493547072479, (((1, 2),), 'D', (None, 0)): 0.0, (((1, 3),), 'D', (None, 0)): 0.0, (((1, 4),), 'D', (None, 0)): 0.0, (((1, 5),), 'D', (None, 0)): 0.0, (((1, 6),), 'D', (None, 0)): -0.0350789820388582, (((1, 7),), 'D', (None, 0)): -0.004921610424069847, (((2, 3),), 'D', (None, 0)): 0.0, (((2, 4),), 'D', (None, 0)): 0.0, (((2, 5),), 'D', (None, 0)): 0.0, (((2, 6),), 'D', (None, 0)): -0.10978879561267094, (((2, 7),), 'D', (None, 0)): -0.10985655879433659, (((3, 4),), 'D', (None, 0)): 0.0, (((3, 5),), 'D', (None, 0)): 0.0, (((3, 6),), 'D', (None, 0)): -0.011673544314160341, (((3, 7),), 'D', (None, 0)): -0.008557512506677405, (((4, 5),), 'D', (None, 0)): 0.0, (((4, 6),), 'D', (None, 0)): -0.1287319780916985, (((4, 7),), 'D', (None, 0)): -0.2516331603735674, (((5, 6),), 'D', (None, 0)): -0.2512604628744063, (((5, 7),), 'D', (None, 0)): -0.12907949052426732, (((6, 7),), 'D', (None, 0)): -1.6940795416413938e-05}  samples= None\n",
      "E=-227.92760143  angles= {(((0, 1),), 'D', (None, 0)): 0.0, (((0, 2),), 'D', (None, 0)): 0.0, (((0, 3),), 'D', (None, 0)): 0.0, (((0, 4),), 'D', (None, 0)): 0.0, (((0, 5),), 'D', (None, 0)): 0.0, (((0, 6),), 'D', (None, 0)): -0.009282427554233771, (((0, 7),), 'D', (None, 0)): -0.00963008286539774, (((1, 2),), 'D', (None, 0)): 0.0, (((1, 3),), 'D', (None, 0)): 0.0, (((1, 4),), 'D', (None, 0)): 0.0, (((1, 5),), 'D', (None, 0)): 0.0, (((1, 6),), 'D', (None, 0)): -0.028829223087836232, (((1, 7),), 'D', (None, 0)): -0.0031864796157552956, (((2, 3),), 'D', (None, 0)): 0.0, (((2, 4),), 'D', (None, 0)): 0.0, (((2, 5),), 'D', (None, 0)): 0.0, (((2, 6),), 'D', (None, 0)): -0.09686880459478399, (((2, 7),), 'D', (None, 0)): -0.09655535745671986, (((3, 4),), 'D', (None, 0)): 0.0, (((3, 5),), 'D', (None, 0)): 0.0, (((3, 6),), 'D', (None, 0)): -0.010617044400516478, (((3, 7),), 'D', (None, 0)): -0.007654103619075582, (((4, 5),), 'D', (None, 0)): 0.0, (((4, 6),), 'D', (None, 0)): -0.12923651786751944, (((4, 7),), 'D', (None, 0)): -0.27257215762702347, (((5, 6),), 'D', (None, 0)): -0.27212537063322995, (((5, 7),), 'D', (None, 0)): -0.12992891903858317, (((6, 7),), 'D', (None, 0)): -4.9329171551389795e-05}  samples= None\n",
      "E=-227.92805585  angles= {(((0, 1),), 'D', (None, 0)): 0.0, (((0, 2),), 'D', (None, 0)): 0.0, (((0, 3),), 'D', (None, 0)): 0.0, (((0, 4),), 'D', (None, 0)): 0.0, (((0, 5),), 'D', (None, 0)): 0.0, (((0, 6),), 'D', (None, 0)): -0.00923352284464864, (((0, 7),), 'D', (None, 0)): -0.009332124976163213, (((1, 2),), 'D', (None, 0)): 0.0, (((1, 3),), 'D', (None, 0)): 0.0, (((1, 4),), 'D', (None, 0)): 0.0, (((1, 5),), 'D', (None, 0)): 0.0, (((1, 6),), 'D', (None, 0)): -0.023628780197311704, (((1, 7),), 'D', (None, 0)): -0.0021023401332889487, (((2, 3),), 'D', (None, 0)): 0.0, (((2, 4),), 'D', (None, 0)): 0.0, (((2, 5),), 'D', (None, 0)): 0.0, (((2, 6),), 'D', (None, 0)): -0.07259712104010997, (((2, 7),), 'D', (None, 0)): -0.07158476694491743, (((3, 4),), 'D', (None, 0)): 0.0, (((3, 5),), 'D', (None, 0)): 0.0, (((3, 6),), 'D', (None, 0)): -0.008955734475117374, (((3, 7),), 'D', (None, 0)): -0.006051452353611219, (((4, 5),), 'D', (None, 0)): 0.0, (((4, 6),), 'D', (None, 0)): -0.1234849462196846, (((4, 7),), 'D', (None, 0)): -0.2956719037467972, (((5, 6),), 'D', (None, 0)): -0.2951597979947815, (((5, 7),), 'D', (None, 0)): -0.12451608122630758, (((6, 7),), 'D', (None, 0)): -0.00014326167363769543}  samples= None\n",
      "E=-227.92806196  angles= {(((0, 1),), 'D', (None, 0)): 0.0, (((0, 2),), 'D', (None, 0)): 0.0, (((0, 3),), 'D', (None, 0)): 0.0, (((0, 4),), 'D', (None, 0)): 0.0, (((0, 5),), 'D', (None, 0)): 0.0, (((0, 6),), 'D', (None, 0)): -0.009122386949691398, (((0, 7),), 'D', (None, 0)): -0.009334295567217871, (((1, 2),), 'D', (None, 0)): 0.0, (((1, 3),), 'D', (None, 0)): 0.0, (((1, 4),), 'D', (None, 0)): 0.0, (((1, 5),), 'D', (None, 0)): 0.0, (((1, 6),), 'D', (None, 0)): -0.02511892268752148, (((1, 7),), 'D', (None, 0)): -0.0025665431280777733, (((2, 3),), 'D', (None, 0)): 0.0, (((2, 4),), 'D', (None, 0)): 0.0, (((2, 5),), 'D', (None, 0)): 0.0, (((2, 6),), 'D', (None, 0)): -0.07160446446753728, (((2, 7),), 'D', (None, 0)): -0.07056177427249469, (((3, 4),), 'D', (None, 0)): 0.0, (((3, 5),), 'D', (None, 0)): 0.0, (((3, 6),), 'D', (None, 0)): -0.009014245998448885, (((3, 7),), 'D', (None, 0)): -0.00602540014882209, (((4, 5),), 'D', (None, 0)): 0.0, (((4, 6),), 'D', (None, 0)): -0.1217071924399706, (((4, 7),), 'D', (None, 0)): -0.29588259326794875, (((5, 6),), 'D', (None, 0)): -0.2953459869750916, (((5, 7),), 'D', (None, 0)): -0.12259034004297382, (((6, 7),), 'D', (None, 0)): -0.00017617808953829546}  samples= None\n",
      "Optimization terminated successfully.\n",
      "         Current function value: -227.928062\n",
      "         Iterations: 5\n",
      "         Function evaluations: 6\n",
      "         Gradient evaluations: 6\n",
      "VQE : -227.92806f\n",
      "MP2 : -227.92895f\n",
      "CISD: -227.94398f\n",
      "FCI : -227.94706f\n"
     ]
    }
   ],
   "source": [
    "import tequila as tq\n",
    "threshold = 1.e-6\n",
    "active = {\"AG\":[0,1,2], \"B1G\":[0,1,2], \"B2G\":[0], \"B3G\":[0], \"AU\":[0], \"B1U\":[0,1]}\n",
    "molecule = tq.quantumchemistry.Molecule(geometry=geomstring, basis_set='sto-3g', active_orbitals=active)\n",
    "H = molecule.make_hamiltonian()\n",
    "\n",
    "U = molecule.make_upccgsd_ansatz(name=\"UpCCGD\")\n",
    "\n",
    "# define the expectationvalue\n",
    "E = tq.ExpectationValue(H=H, U=U)\n",
    "\n",
    "# compute reference energies\n",
    "mp2 = molecule.compute_energy(\"mp2\")\n",
    "cisd = molecule.compute_energy(\"detci\", options={\"detci__ex_level\": 2})\n",
    "fci = molecule.compute_energy(\"fci\")\n",
    "\n",
    "# optimize\n",
    "result = tq.minimize(objective=E, method=\"BFGS\", initial_values=0.0)\n",
    "\n",
    "print(\"VQE : {:+2.8}f\".format(result.energy))\n",
    "print(\"MP2 : {:+2.8}f\".format(mp2))\n",
    "print(\"CISD: {:+2.8}f\".format(cisd))\n",
    "print(\"FCI : {:+2.8}f\".format(fci))"
   ]
  },
  {
   "cell_type": "code",
   "execution_count": 19,
   "id": "04103a22",
   "metadata": {},
   "outputs": [
    {
     "data": {
      "image/png": "[encoded data removed]",
      "text/plain": [
       "<Figure size 432x288 with 1 Axes>"
      ]
     },
     "metadata": {
      "needs_background": "light"
     },
     "output_type": "display_data"
    }
   ],
   "source": [
    "result.history.plot(\"energies\", baselines={\"fci\":fci, \"cisd\": cisd, \"mp2\":mp2}, filename=\"benzene_result_bfgs\")"
   ]
  },
  {
   "cell_type": "code",
   "execution_count": null,
   "id": "ea20566a",
   "metadata": {},
   "outputs": [],
   "source": []
  }
 ],
 "metadata": {
  "kernelspec": {
   "display_name": "base",
   "language": "python",
   "name": "base"
  },
  "language_info": {
   "codemirror_mode": {
    "name": "ipython",
    "version": 3
   },
   "file_extension": ".py",
   "mimetype": "text/x-python",
   "name": "python",
   "nbconvert_exporter": "python",
   "pygments_lexer": "ipython3",
   "version": "3.9.12"
  }
 },
 "nbformat": 4,
 "nbformat_minor": 5
}
